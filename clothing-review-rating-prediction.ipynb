{
 "cells": [
  {
   "cell_type": "markdown",
   "metadata": {
    "papermill": {
     "duration": 0.009113,
     "end_time": "2021-02-19T02:47:19.697407",
     "exception": false,
     "start_time": "2021-02-19T02:47:19.688294",
     "status": "completed"
    },
    "tags": []
   },
   "source": [
    "# Task for Today  \n",
    "\n",
    "***\n",
    "\n",
    "## Clothing Review Rating Prediction  \n",
    "\n",
    "Given *reviews of women's clothing*, let's try to predict whether the rating associated with the review will be **5-star** or not.\n",
    "\n",
    "We will use a TensorFlow/Keras recurrent neural network to make our predictions."
   ]
  },
  {
   "cell_type": "markdown",
   "metadata": {
    "papermill": {
     "duration": 0.007831,
     "end_time": "2021-02-19T02:47:19.713685",
     "exception": false,
     "start_time": "2021-02-19T02:47:19.705854",
     "status": "completed"
    },
    "tags": []
   },
   "source": [
    "# Getting Started"
   ]
  },
  {
   "cell_type": "code",
   "execution_count": 1,
   "metadata": {
    "execution": {
     "iopub.execute_input": "2021-02-19T02:47:19.734994Z",
     "iopub.status.busy": "2021-02-19T02:47:19.734278Z",
     "iopub.status.idle": "2021-02-19T02:47:25.648892Z",
     "shell.execute_reply": "2021-02-19T02:47:25.647727Z"
    },
    "papermill": {
     "duration": 5.927421,
     "end_time": "2021-02-19T02:47:25.649132",
     "exception": false,
     "start_time": "2021-02-19T02:47:19.721711",
     "status": "completed"
    },
    "tags": []
   },
   "outputs": [],
   "source": [
    "import numpy as np\n",
    "import pandas as pd\n",
    "\n",
    "from sklearn.model_selection import train_test_split\n",
    "from tensorflow.keras.preprocessing.text import Tokenizer\n",
    "from tensorflow.keras.preprocessing.sequence import pad_sequences\n",
    "\n",
    "import tensorflow as tf"
   ]
  },
  {
   "cell_type": "code",
   "execution_count": 2,
   "metadata": {
    "execution": {
     "iopub.execute_input": "2021-02-19T02:47:25.676012Z",
     "iopub.status.busy": "2021-02-19T02:47:25.675498Z",
     "iopub.status.idle": "2021-02-19T02:47:25.913907Z",
     "shell.execute_reply": "2021-02-19T02:47:25.912878Z"
    },
    "papermill": {
     "duration": 0.256171,
     "end_time": "2021-02-19T02:47:25.914062",
     "exception": false,
     "start_time": "2021-02-19T02:47:25.657891",
     "status": "completed"
    },
    "tags": []
   },
   "outputs": [],
   "source": [
    "data = pd.read_csv('../input/ecommerce-reviews-for-women-clothings/Womens-Clothing-E-Commerce-Reviews.csv')"
   ]
  },
  {
   "cell_type": "code",
   "execution_count": 3,
   "metadata": {
    "execution": {
     "iopub.execute_input": "2021-02-19T02:47:25.954610Z",
     "iopub.status.busy": "2021-02-19T02:47:25.953740Z",
     "iopub.status.idle": "2021-02-19T02:47:25.965692Z",
     "shell.execute_reply": "2021-02-19T02:47:25.966098Z"
    },
    "papermill": {
     "duration": 0.043028,
     "end_time": "2021-02-19T02:47:25.966271",
     "exception": false,
     "start_time": "2021-02-19T02:47:25.923243",
     "status": "completed"
    },
    "tags": []
   },
   "outputs": [
    {
     "data": {
      "text/html": [
       "<div>\n",
       "<style scoped>\n",
       "    .dataframe tbody tr th:only-of-type {\n",
       "        vertical-align: middle;\n",
       "    }\n",
       "\n",
       "    .dataframe tbody tr th {\n",
       "        vertical-align: top;\n",
       "    }\n",
       "\n",
       "    .dataframe thead th {\n",
       "        text-align: right;\n",
       "    }\n",
       "</style>\n",
       "<table border=\"1\" class=\"dataframe\">\n",
       "  <thead>\n",
       "    <tr style=\"text-align: right;\">\n",
       "      <th></th>\n",
       "      <th>Unnamed: 0</th>\n",
       "      <th>Clothing ID</th>\n",
       "      <th>Age</th>\n",
       "      <th>Title</th>\n",
       "      <th>Review Text</th>\n",
       "      <th>Rating</th>\n",
       "      <th>Recommended IND</th>\n",
       "      <th>Positive Feedback Count</th>\n",
       "      <th>Division Name</th>\n",
       "      <th>Department Name</th>\n",
       "      <th>Class Name</th>\n",
       "    </tr>\n",
       "  </thead>\n",
       "  <tbody>\n",
       "    <tr>\n",
       "      <th>0</th>\n",
       "      <td>0</td>\n",
       "      <td>767</td>\n",
       "      <td>33</td>\n",
       "      <td>NaN</td>\n",
       "      <td>Absolutely wonderful - silky and sexy and comf...</td>\n",
       "      <td>4</td>\n",
       "      <td>1</td>\n",
       "      <td>0</td>\n",
       "      <td>Initmates</td>\n",
       "      <td>Intimate</td>\n",
       "      <td>Intimates</td>\n",
       "    </tr>\n",
       "    <tr>\n",
       "      <th>1</th>\n",
       "      <td>1</td>\n",
       "      <td>1080</td>\n",
       "      <td>34</td>\n",
       "      <td>NaN</td>\n",
       "      <td>Love this dress!  it's sooo pretty.  i happene...</td>\n",
       "      <td>5</td>\n",
       "      <td>1</td>\n",
       "      <td>4</td>\n",
       "      <td>General</td>\n",
       "      <td>Dresses</td>\n",
       "      <td>Dresses</td>\n",
       "    </tr>\n",
       "    <tr>\n",
       "      <th>2</th>\n",
       "      <td>2</td>\n",
       "      <td>1077</td>\n",
       "      <td>60</td>\n",
       "      <td>Some major design flaws</td>\n",
       "      <td>I had such high hopes for this dress and reall...</td>\n",
       "      <td>3</td>\n",
       "      <td>0</td>\n",
       "      <td>0</td>\n",
       "      <td>General</td>\n",
       "      <td>Dresses</td>\n",
       "      <td>Dresses</td>\n",
       "    </tr>\n",
       "    <tr>\n",
       "      <th>3</th>\n",
       "      <td>3</td>\n",
       "      <td>1049</td>\n",
       "      <td>50</td>\n",
       "      <td>My favorite buy!</td>\n",
       "      <td>I love, love, love this jumpsuit. it's fun, fl...</td>\n",
       "      <td>5</td>\n",
       "      <td>1</td>\n",
       "      <td>0</td>\n",
       "      <td>General Petite</td>\n",
       "      <td>Bottoms</td>\n",
       "      <td>Pants</td>\n",
       "    </tr>\n",
       "    <tr>\n",
       "      <th>4</th>\n",
       "      <td>4</td>\n",
       "      <td>847</td>\n",
       "      <td>47</td>\n",
       "      <td>Flattering shirt</td>\n",
       "      <td>This shirt is very flattering to all due to th...</td>\n",
       "      <td>5</td>\n",
       "      <td>1</td>\n",
       "      <td>6</td>\n",
       "      <td>General</td>\n",
       "      <td>Tops</td>\n",
       "      <td>Blouses</td>\n",
       "    </tr>\n",
       "    <tr>\n",
       "      <th>...</th>\n",
       "      <td>...</td>\n",
       "      <td>...</td>\n",
       "      <td>...</td>\n",
       "      <td>...</td>\n",
       "      <td>...</td>\n",
       "      <td>...</td>\n",
       "      <td>...</td>\n",
       "      <td>...</td>\n",
       "      <td>...</td>\n",
       "      <td>...</td>\n",
       "      <td>...</td>\n",
       "    </tr>\n",
       "    <tr>\n",
       "      <th>23483</th>\n",
       "      <td>23483</td>\n",
       "      <td>1104</td>\n",
       "      <td>31</td>\n",
       "      <td>Cute, but see through</td>\n",
       "      <td>This fit well, but the top was very see throug...</td>\n",
       "      <td>3</td>\n",
       "      <td>0</td>\n",
       "      <td>1</td>\n",
       "      <td>General Petite</td>\n",
       "      <td>Dresses</td>\n",
       "      <td>Dresses</td>\n",
       "    </tr>\n",
       "    <tr>\n",
       "      <th>23484</th>\n",
       "      <td>23484</td>\n",
       "      <td>1084</td>\n",
       "      <td>28</td>\n",
       "      <td>Very cute dress, perfect for summer parties an...</td>\n",
       "      <td>I bought this dress for a wedding i have this ...</td>\n",
       "      <td>3</td>\n",
       "      <td>1</td>\n",
       "      <td>2</td>\n",
       "      <td>General</td>\n",
       "      <td>Dresses</td>\n",
       "      <td>Dresses</td>\n",
       "    </tr>\n",
       "    <tr>\n",
       "      <th>23485</th>\n",
       "      <td>23485</td>\n",
       "      <td>1104</td>\n",
       "      <td>52</td>\n",
       "      <td>Please make more like this one!</td>\n",
       "      <td>This dress in a lovely platinum is feminine an...</td>\n",
       "      <td>5</td>\n",
       "      <td>1</td>\n",
       "      <td>22</td>\n",
       "      <td>General Petite</td>\n",
       "      <td>Dresses</td>\n",
       "      <td>Dresses</td>\n",
       "    </tr>\n",
       "    <tr>\n",
       "      <th>23486</th>\n",
       "      <td>23486</td>\n",
       "      <td>1097</td>\n",
       "      <td>32</td>\n",
       "      <td>Overall</td>\n",
       "      <td>This one suits me well</td>\n",
       "      <td>5</td>\n",
       "      <td>1</td>\n",
       "      <td>21</td>\n",
       "      <td>General Petite</td>\n",
       "      <td>Dresses</td>\n",
       "      <td>Dresses</td>\n",
       "    </tr>\n",
       "    <tr>\n",
       "      <th>23487</th>\n",
       "      <td>23487</td>\n",
       "      <td>1007</td>\n",
       "      <td>40</td>\n",
       "      <td>Full of perfection</td>\n",
       "      <td>I surely would grab it</td>\n",
       "      <td>5</td>\n",
       "      <td>1</td>\n",
       "      <td>22</td>\n",
       "      <td>General Petite</td>\n",
       "      <td>Dresses</td>\n",
       "      <td>Dresses</td>\n",
       "    </tr>\n",
       "  </tbody>\n",
       "</table>\n",
       "<p>23488 rows × 11 columns</p>\n",
       "</div>"
      ],
      "text/plain": [
       "       Unnamed: 0  Clothing ID  Age  \\\n",
       "0               0          767   33   \n",
       "1               1         1080   34   \n",
       "2               2         1077   60   \n",
       "3               3         1049   50   \n",
       "4               4          847   47   \n",
       "...           ...          ...  ...   \n",
       "23483       23483         1104   31   \n",
       "23484       23484         1084   28   \n",
       "23485       23485         1104   52   \n",
       "23486       23486         1097   32   \n",
       "23487       23487         1007   40   \n",
       "\n",
       "                                                   Title  \\\n",
       "0                                                    NaN   \n",
       "1                                                    NaN   \n",
       "2                                Some major design flaws   \n",
       "3                                       My favorite buy!   \n",
       "4                                       Flattering shirt   \n",
       "...                                                  ...   \n",
       "23483                              Cute, but see through   \n",
       "23484  Very cute dress, perfect for summer parties an...   \n",
       "23485                    Please make more like this one!   \n",
       "23486                                            Overall   \n",
       "23487                                 Full of perfection   \n",
       "\n",
       "                                             Review Text  Rating  \\\n",
       "0      Absolutely wonderful - silky and sexy and comf...       4   \n",
       "1      Love this dress!  it's sooo pretty.  i happene...       5   \n",
       "2      I had such high hopes for this dress and reall...       3   \n",
       "3      I love, love, love this jumpsuit. it's fun, fl...       5   \n",
       "4      This shirt is very flattering to all due to th...       5   \n",
       "...                                                  ...     ...   \n",
       "23483  This fit well, but the top was very see throug...       3   \n",
       "23484  I bought this dress for a wedding i have this ...       3   \n",
       "23485  This dress in a lovely platinum is feminine an...       5   \n",
       "23486                             This one suits me well       5   \n",
       "23487                             I surely would grab it       5   \n",
       "\n",
       "       Recommended IND  Positive Feedback Count   Division Name  \\\n",
       "0                    1                        0       Initmates   \n",
       "1                    1                        4         General   \n",
       "2                    0                        0         General   \n",
       "3                    1                        0  General Petite   \n",
       "4                    1                        6         General   \n",
       "...                ...                      ...             ...   \n",
       "23483                0                        1  General Petite   \n",
       "23484                1                        2         General   \n",
       "23485                1                       22  General Petite   \n",
       "23486                1                       21  General Petite   \n",
       "23487                1                       22  General Petite   \n",
       "\n",
       "      Department Name Class Name  \n",
       "0            Intimate  Intimates  \n",
       "1             Dresses    Dresses  \n",
       "2             Dresses    Dresses  \n",
       "3             Bottoms      Pants  \n",
       "4                Tops    Blouses  \n",
       "...               ...        ...  \n",
       "23483         Dresses    Dresses  \n",
       "23484         Dresses    Dresses  \n",
       "23485         Dresses    Dresses  \n",
       "23486         Dresses    Dresses  \n",
       "23487         Dresses    Dresses  \n",
       "\n",
       "[23488 rows x 11 columns]"
      ]
     },
     "execution_count": 3,
     "metadata": {},
     "output_type": "execute_result"
    }
   ],
   "source": [
    "data"
   ]
  },
  {
   "cell_type": "code",
   "execution_count": 4,
   "metadata": {
    "execution": {
     "iopub.execute_input": "2021-02-19T02:47:25.998982Z",
     "iopub.status.busy": "2021-02-19T02:47:25.998185Z",
     "iopub.status.idle": "2021-02-19T02:47:26.012718Z",
     "shell.execute_reply": "2021-02-19T02:47:26.012033Z"
    },
    "papermill": {
     "duration": 0.03747,
     "end_time": "2021-02-19T02:47:26.012885",
     "exception": false,
     "start_time": "2021-02-19T02:47:25.975415",
     "status": "completed"
    },
    "tags": []
   },
   "outputs": [
    {
     "name": "stdout",
     "output_type": "stream",
     "text": [
      "<class 'pandas.core.frame.DataFrame'>\n",
      "RangeIndex: 23488 entries, 0 to 23487\n",
      "Data columns (total 11 columns):\n",
      " #   Column                   Non-Null Count  Dtype \n",
      "---  ------                   --------------  ----- \n",
      " 0   Unnamed: 0               23488 non-null  int64 \n",
      " 1   Clothing ID              23488 non-null  int64 \n",
      " 2   Age                      23488 non-null  int64 \n",
      " 3   Title                    19678 non-null  object\n",
      " 4   Review Text              22643 non-null  object\n",
      " 5   Rating                   23488 non-null  int64 \n",
      " 6   Recommended IND          23488 non-null  int64 \n",
      " 7   Positive Feedback Count  23488 non-null  int64 \n",
      " 8   Division Name            23474 non-null  object\n",
      " 9   Department Name          23474 non-null  object\n",
      " 10  Class Name               23474 non-null  object\n",
      "dtypes: int64(6), object(5)\n",
      "memory usage: 2.0+ MB\n"
     ]
    }
   ],
   "source": [
    "data.info()"
   ]
  },
  {
   "cell_type": "markdown",
   "metadata": {
    "papermill": {
     "duration": 0.009683,
     "end_time": "2021-02-19T02:47:26.032898",
     "exception": false,
     "start_time": "2021-02-19T02:47:26.023215",
     "status": "completed"
    },
    "tags": []
   },
   "source": [
    "# Preprocessing"
   ]
  },
  {
   "cell_type": "code",
   "execution_count": 5,
   "metadata": {
    "execution": {
     "iopub.execute_input": "2021-02-19T02:47:26.061543Z",
     "iopub.status.busy": "2021-02-19T02:47:26.060933Z",
     "iopub.status.idle": "2021-02-19T02:47:26.063947Z",
     "shell.execute_reply": "2021-02-19T02:47:26.063555Z"
    },
    "papermill": {
     "duration": 0.021135,
     "end_time": "2021-02-19T02:47:26.064053",
     "exception": false,
     "start_time": "2021-02-19T02:47:26.042918",
     "status": "completed"
    },
    "tags": []
   },
   "outputs": [],
   "source": [
    "def preprocess_inputs(df):\n",
    "    df = df.copy()\n",
    "    \n",
    "    # Drop rows with missing reviews\n",
    "    missing_review_rows = df[df['Review Text'].isna()].index\n",
    "    df = df.drop(missing_review_rows, axis=0).reset_index(drop=True)\n",
    "    \n",
    "    \n",
    "    # Use only the review and rating column\n",
    "    y = df['Rating']\n",
    "    X = df['Review Text']\n",
    "    \n",
    "    \n",
    "    # Make y a binary target\n",
    "    y = y.apply(lambda x: 1 if x == 5 else 0)\n",
    "    \n",
    "    \n",
    "    # Train-test split\n",
    "    X_train, X_test, y_train, y_test = train_test_split(X, y, train_size=0.7, shuffle=True, random_state=1)\n",
    "    \n",
    "    \n",
    "    # Learn the vocabulary\n",
    "    tokenizer = Tokenizer()\n",
    "    tokenizer.fit_on_texts(X_train)\n",
    "    \n",
    "    \n",
    "    # Find the size of the vocabulary\n",
    "    vocab_length = len(tokenizer.word_index) + 1\n",
    "    print(\"Vocab length:\", vocab_length)\n",
    "    \n",
    "    \n",
    "    # Convert review texts into sequences of integers\n",
    "    X_train = tokenizer.texts_to_sequences(X_train)\n",
    "    X_test = tokenizer.texts_to_sequences(X_test)\n",
    "    \n",
    "    \n",
    "    # Find the maximum sequence length\n",
    "    max_seq_length = np.max(list(map(lambda x: len(x), X_train)))\n",
    "    print(\"Maximum sequence length:\", max_seq_length)\n",
    "    \n",
    "    \n",
    "    # Pad the sequences to by uniform length\n",
    "    X_train = pad_sequences(X_train, maxlen=max_seq_length, padding='post')\n",
    "    X_test = pad_sequences(X_test, maxlen=max_seq_length, padding='post')\n",
    "    \n",
    "    \n",
    "    return X_train, X_test, y_train, y_test, vocab_length, max_seq_length"
   ]
  },
  {
   "cell_type": "code",
   "execution_count": 6,
   "metadata": {
    "execution": {
     "iopub.execute_input": "2021-02-19T02:47:26.087196Z",
     "iopub.status.busy": "2021-02-19T02:47:26.086430Z",
     "iopub.status.idle": "2021-02-19T02:47:27.992571Z",
     "shell.execute_reply": "2021-02-19T02:47:27.991325Z"
    },
    "papermill": {
     "duration": 1.919059,
     "end_time": "2021-02-19T02:47:27.992714",
     "exception": false,
     "start_time": "2021-02-19T02:47:26.073655",
     "status": "completed"
    },
    "tags": []
   },
   "outputs": [
    {
     "name": "stdout",
     "output_type": "stream",
     "text": [
      "Vocab length: 12726\n",
      "Maximum sequence length: 115\n"
     ]
    }
   ],
   "source": [
    "X_train, X_test, y_train, y_test, VOCAB_LENGTH, MAX_SEQ_LENGTH = preprocess_inputs(data)"
   ]
  },
  {
   "cell_type": "code",
   "execution_count": 7,
   "metadata": {
    "execution": {
     "iopub.execute_input": "2021-02-19T02:47:28.017892Z",
     "iopub.status.busy": "2021-02-19T02:47:28.017060Z",
     "iopub.status.idle": "2021-02-19T02:47:28.020678Z",
     "shell.execute_reply": "2021-02-19T02:47:28.020281Z"
    },
    "papermill": {
     "duration": 0.017231,
     "end_time": "2021-02-19T02:47:28.020801",
     "exception": false,
     "start_time": "2021-02-19T02:47:28.003570",
     "status": "completed"
    },
    "tags": []
   },
   "outputs": [
    {
     "data": {
      "text/plain": [
       "(15850, 115)"
      ]
     },
     "execution_count": 7,
     "metadata": {},
     "output_type": "execute_result"
    }
   ],
   "source": [
    "X_train.shape"
   ]
  },
  {
   "cell_type": "code",
   "execution_count": 8,
   "metadata": {
    "execution": {
     "iopub.execute_input": "2021-02-19T02:47:28.045515Z",
     "iopub.status.busy": "2021-02-19T02:47:28.044746Z",
     "iopub.status.idle": "2021-02-19T02:47:28.048065Z",
     "shell.execute_reply": "2021-02-19T02:47:28.048566Z"
    },
    "papermill": {
     "duration": 0.017485,
     "end_time": "2021-02-19T02:47:28.048683",
     "exception": false,
     "start_time": "2021-02-19T02:47:28.031198",
     "status": "completed"
    },
    "tags": []
   },
   "outputs": [
    {
     "data": {
      "text/plain": [
       "(6793, 115)"
      ]
     },
     "execution_count": 8,
     "metadata": {},
     "output_type": "execute_result"
    }
   ],
   "source": [
    "X_test.shape"
   ]
  },
  {
   "cell_type": "markdown",
   "metadata": {
    "papermill": {
     "duration": 0.011604,
     "end_time": "2021-02-19T02:47:28.070935",
     "exception": false,
     "start_time": "2021-02-19T02:47:28.059331",
     "status": "completed"
    },
    "tags": []
   },
   "source": [
    "# Training"
   ]
  },
  {
   "cell_type": "code",
   "execution_count": 9,
   "metadata": {
    "execution": {
     "iopub.execute_input": "2021-02-19T02:47:28.098550Z",
     "iopub.status.busy": "2021-02-19T02:47:28.098029Z",
     "iopub.status.idle": "2021-02-19T02:47:32.011887Z",
     "shell.execute_reply": "2021-02-19T02:47:32.012600Z"
    },
    "papermill": {
     "duration": 3.930929,
     "end_time": "2021-02-19T02:47:32.012764",
     "exception": false,
     "start_time": "2021-02-19T02:47:28.081835",
     "status": "completed"
    },
    "tags": []
   },
   "outputs": [
    {
     "name": "stdout",
     "output_type": "stream",
     "text": [
      "Model: \"model\"\n",
      "__________________________________________________________________________________________________\n",
      "Layer (type)                    Output Shape         Param #     Connected to                     \n",
      "==================================================================================================\n",
      "input_1 (InputLayer)            [(None, 115)]        0                                            \n",
      "__________________________________________________________________________________________________\n",
      "embedding (Embedding)           (None, 115, 128)     1628928     input_1[0][0]                    \n",
      "__________________________________________________________________________________________________\n",
      "flatten (Flatten)               (None, 14720)        0           embedding[0][0]                  \n",
      "__________________________________________________________________________________________________\n",
      "gru (GRU)                       (None, 256)          296448      embedding[0][0]                  \n",
      "__________________________________________________________________________________________________\n",
      "concatenate (Concatenate)       (None, 14976)        0           flatten[0][0]                    \n",
      "                                                                 gru[0][0]                        \n",
      "__________________________________________________________________________________________________\n",
      "dense (Dense)                   (None, 1)            14977       concatenate[0][0]                \n",
      "==================================================================================================\n",
      "Total params: 1,940,353\n",
      "Trainable params: 1,940,353\n",
      "Non-trainable params: 0\n",
      "__________________________________________________________________________________________________\n",
      "None\n"
     ]
    },
    {
     "data": {
      "image/png": "[encoded data removed]",
      "text/plain": [
       "<IPython.core.display.Image object>"
      ]
     },
     "execution_count": 9,
     "metadata": {},
     "output_type": "execute_result"
    }
   ],
   "source": [
    "inputs = tf.keras.Input(shape=(X_train.shape[1],))\n",
    "\n",
    "word_embedding = tf.keras.layers.Embedding(\n",
    "    input_dim=VOCAB_LENGTH,\n",
    "    output_dim=128,\n",
    "    input_length=MAX_SEQ_LENGTH\n",
    ")(inputs)\n",
    "\n",
    "word_flatten = tf.keras.layers.Flatten()(word_embedding)\n",
    "gru = tf.keras.layers.GRU(256, return_sequences=False, activation='tanh')(word_embedding)\n",
    "\n",
    "concat = tf.keras.layers.concatenate([word_flatten, gru])\n",
    "\n",
    "outputs = tf.keras.layers.Dense(1, activation='sigmoid')(concat)\n",
    "\n",
    "\n",
    "model = tf.keras.Model(inputs=inputs, outputs=outputs)\n",
    "\n",
    "print(model.summary())\n",
    "tf.keras.utils.plot_model(model)"
   ]
  },
  {
   "cell_type": "code",
   "execution_count": 10,
   "metadata": {
    "execution": {
     "iopub.execute_input": "2021-02-19T02:47:32.050545Z",
     "iopub.status.busy": "2021-02-19T02:47:32.049752Z",
     "iopub.status.idle": "2021-02-19T02:48:24.910257Z",
     "shell.execute_reply": "2021-02-19T02:48:24.909785Z"
    },
    "papermill": {
     "duration": 52.885639,
     "end_time": "2021-02-19T02:48:24.910412",
     "exception": false,
     "start_time": "2021-02-19T02:47:32.024773",
     "status": "completed"
    },
    "tags": []
   },
   "outputs": [
    {
     "name": "stdout",
     "output_type": "stream",
     "text": [
      "Epoch 1/100\n",
      "397/397 [==============================] - 14s 25ms/step - loss: 0.6309 - accuracy: 0.6365 - val_loss: 0.4623 - val_accuracy: 0.7934\n",
      "Epoch 2/100\n",
      "397/397 [==============================] - 10s 25ms/step - loss: 0.3643 - accuracy: 0.8518 - val_loss: 0.4473 - val_accuracy: 0.7962\n",
      "Epoch 3/100\n",
      "397/397 [==============================] - 9s 24ms/step - loss: 0.2035 - accuracy: 0.9345 - val_loss: 0.4857 - val_accuracy: 0.7880\n",
      "Epoch 4/100\n",
      "397/397 [==============================] - 9s 24ms/step - loss: 0.1051 - accuracy: 0.9765 - val_loss: 0.5124 - val_accuracy: 0.7883\n",
      "Epoch 5/100\n",
      "397/397 [==============================] - 10s 25ms/step - loss: 0.0584 - accuracy: 0.9895 - val_loss: 0.5533 - val_accuracy: 0.7880\n"
     ]
    }
   ],
   "source": [
    "model.compile(\n",
    "    optimizer='adam',\n",
    "    loss='binary_crossentropy',\n",
    "    metrics=['accuracy']\n",
    ")\n",
    "\n",
    "\n",
    "history = model.fit(\n",
    "    X_train,\n",
    "    y_train,\n",
    "    validation_split=0.2,\n",
    "    batch_size=32,\n",
    "    epochs=100,\n",
    "    callbacks=[\n",
    "        tf.keras.callbacks.EarlyStopping(\n",
    "            monitor='val_loss',\n",
    "            patience=3,\n",
    "            restore_best_weights=True\n",
    "        )\n",
    "    ]\n",
    ")"
   ]
  },
  {
   "cell_type": "markdown",
   "metadata": {
    "papermill": {
     "duration": 0.1908,
     "end_time": "2021-02-19T02:48:25.294559",
     "exception": false,
     "start_time": "2021-02-19T02:48:25.103759",
     "status": "completed"
    },
    "tags": []
   },
   "source": [
    "# Results"
   ]
  },
  {
   "cell_type": "code",
   "execution_count": 11,
   "metadata": {
    "execution": {
     "iopub.execute_input": "2021-02-19T02:48:25.682028Z",
     "iopub.status.busy": "2021-02-19T02:48:25.681187Z",
     "iopub.status.idle": "2021-02-19T02:48:26.672541Z",
     "shell.execute_reply": "2021-02-19T02:48:26.671453Z"
    },
    "papermill": {
     "duration": 1.187076,
     "end_time": "2021-02-19T02:48:26.672676",
     "exception": false,
     "start_time": "2021-02-19T02:48:25.485600",
     "status": "completed"
    },
    "tags": []
   },
   "outputs": [
    {
     "name": "stdout",
     "output_type": "stream",
     "text": [
      "213/213 [==============================] - 1s 4ms/step - loss: 0.4562 - accuracy: 0.7963\n"
     ]
    },
    {
     "data": {
      "text/plain": [
       "[0.45620599389076233, 0.7962608337402344]"
      ]
     },
     "execution_count": 11,
     "metadata": {},
     "output_type": "execute_result"
    }
   ],
   "source": [
    "model.evaluate(X_test, y_test)"
   ]
  },
  {
   "cell_type": "markdown",
   "metadata": {
    "papermill": {
     "duration": 0.196749,
     "end_time": "2021-02-19T02:48:27.066409",
     "exception": false,
     "start_time": "2021-02-19T02:48:26.869660",
     "status": "completed"
    },
    "tags": []
   },
   "source": [
    "# Data Every Day  \n",
    "\n",
    "This notebook is featured on Data Every Day, a YouTube series where I train models on a new dataset each day.  \n",
    "\n",
    "***\n",
    "\n",
    "Check it out!  \n",
    "https://youtu.be/EY_dMXXtazg"
   ]
  }
 ],
 "metadata": {
  "kernelspec": {
   "display_name": "Python 3",
   "language": "python",
   "name": "python3"
  },
  "language_info": {
   "codemirror_mode": {
    "name": "ipython",
    "version": 3
   },
   "file_extension": ".py",
   "mimetype": "text/x-python",
   "name": "python",
   "nbconvert_exporter": "python",
   "pygments_lexer": "ipython3",
   "version": "3.7.9"
  },
  "papermill": {
   "default_parameters": {},
   "duration": 75.880738,
   "end_time": "2021-02-19T02:48:30.368215",
   "environment_variables": {},
   "exception": null,
   "input_path": "__notebook__.ipynb",
   "output_path": "__notebook__.ipynb",
   "parameters": {},
   "start_time": "2021-02-19T02:47:14.487477",
   "version": "2.2.2"
  }
 },
 "nbformat": 4,
 "nbformat_minor": 4
}
